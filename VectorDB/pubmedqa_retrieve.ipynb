{
 "cells": [
  {
   "cell_type": "code",
   "execution_count": 1,
   "metadata": {},
   "outputs": [
    {
     "name": "stderr",
     "output_type": "stream",
     "text": [
      "/home/jsawant/.conda/envs/faiss/lib/python3.12/site-packages/tqdm/auto.py:21: TqdmWarning: IProgress not found. Please update jupyter and ipywidgets. See https://ipywidgets.readthedocs.io/en/stable/user_install.html\n",
      "  from .autonotebook import tqdm as notebook_tqdm\n"
     ]
    }
   ],
   "source": [
    "import os\n",
    "import torch\n",
    "from transformers import AutoTokenizer, AutoModel\n",
    "from datasets import load_dataset\n",
    "import faiss\n",
    "import numpy as np\n",
    "from tqdm import tqdm\n",
    "from typing import List\n",
    "\n",
    "from langchain_huggingface import HuggingFaceEmbeddings\n",
    "from langchain.vectorstores import FAISS\n",
    "from langchain.text_splitter import RecursiveCharacterTextSplitter\n",
    "from langchain.schema import Document\n",
    "from langchain.embeddings.base import Embeddings\n"
   ]
  },
  {
   "cell_type": "code",
   "execution_count": 2,
   "metadata": {},
   "outputs": [],
   "source": [
    "class CustomHuggingFaceEmbeddings(Embeddings):  # Inherit from Embeddings base class\n",
    "    def __init__(self, model, tokenizer):\n",
    "        self.model = model\n",
    "        self.tokenizer = tokenizer\n",
    "        \n",
    "    def embed_documents(self, texts: List[str]) -> List[List[float]]:\n",
    "        inputs = self.tokenizer(texts, padding=True, truncation=True, \n",
    "                            max_length=512, return_tensors=\"pt\").to('cuda')\n",
    "        with torch.no_grad():\n",
    "            outputs = self.model(**inputs)\n",
    "            embeddings = outputs.last_hidden_state.mean(dim=1)\n",
    "            embeddings = torch.nn.functional.normalize(embeddings, p=2, dim=1)\n",
    "        return embeddings.cpu().numpy().tolist()  # Convert to list format\n",
    "    \n",
    "    def embed_query(self, text: str) -> List[float]:\n",
    "        return self.embed_documents([text])[0]"
   ]
  },
  {
   "cell_type": "code",
   "execution_count": 3,
   "metadata": {},
   "outputs": [],
   "source": [
    "def load_vectorstore(path=\"./pubmedqa_vectorstore\"):\n",
    "    \"\"\"Load the FAISS vector store from disk\"\"\"\n",
    "    # Initialize the same embedding model as used in creation\n",
    "    model_name = \"microsoft/BiomedNLP-PubMedBERT-base-uncased-abstract\"\n",
    "    \n",
    "    tokenizer = AutoTokenizer.from_pretrained(model_name)\n",
    "    model = AutoModel.from_pretrained(model_name).to('cuda')\n",
    "    \n",
    "    embeddings = CustomHuggingFaceEmbeddings(model, tokenizer)\n",
    "    \n",
    "    # Load the vectorstore\n",
    "    vectorstore = FAISS.load_local(path, embeddings, allow_dangerous_deserialization=True)\n",
    "    return vectorstore"
   ]
  },
  {
   "cell_type": "code",
   "execution_count": 4,
   "metadata": {},
   "outputs": [],
   "source": [
    "def retrieve_contexts(vectorstore, query, k=5):\n",
    "    \"\"\"\n",
    "    Retrieve relevant contexts for a given query using direct FAISS search\n",
    "    \n",
    "    Args:\n",
    "        vectorstore: FAISS vectorstore\n",
    "        query: str, the search query\n",
    "        k: int, number of results to return\n",
    "    \n",
    "    Returns:\n",
    "        List of relevant documents with their scores\n",
    "    \"\"\"\n",
    "    # Get query embedding\n",
    "    query_embedding = vectorstore.embedding_function.embed_query(query)\n",
    "    query_embedding = np.array(query_embedding).astype('float32').reshape(1, -1)\n",
    "    \n",
    "    # Search the FAISS index directly\n",
    "    distances, indices = vectorstore.index.search(query_embedding, k)\n",
    "    \n",
    "    # Format results\n",
    "    results = []\n",
    "    for idx, distance in zip(indices[0], distances[0]):\n",
    "        doc = vectorstore.docstore.get(idx)  # Get document from docstore\n",
    "        if doc is not None:\n",
    "            results.append((doc, float(distance)))\n",
    "    \n",
    "    return results"
   ]
  },
  {
   "cell_type": "code",
   "execution_count": 5,
   "metadata": {},
   "outputs": [],
   "source": [
    "vectorstore = load_vectorstore(path=\"./pubmedqa_vectorstore\")"
   ]
  },
  {
   "cell_type": "code",
   "execution_count": 20,
   "metadata": {},
   "outputs": [],
   "source": [
    "query = \"symptoms of heart attack\"\n",
    "results = retrieve_contexts(vectorstore, query, k=5)  # k is the number of results you want"
   ]
  },
  {
   "cell_type": "code",
   "execution_count": 21,
   "metadata": {},
   "outputs": [
    {
     "name": "stdout",
     "output_type": "stream",
     "text": [
      "Score: 0.14703282713890076\n",
      "Content: (UNASEM) trial on the effect of thrombolysis in unstable angina. Patients without a previous myocardial infarction who presented with a typical history of unstable angina in the presence of abnormal findings on the electrocardiogram indicative of ischemia were included in the study. After baseline angiography, study medication (anistreplase or placebo) was given to 126 to 159 patients. Thirty-three patients did not receive medication because of significant main stem disease or normal coronary arteries or\n",
      "\n",
      "Score: 0.15074096620082855\n",
      "Content: at the time of worst bradyarrhythmia predicted the risk of TdP. However, the QT, corrected QT (QTc), and T(peak)-T(end) intervals correlated with the risk of TdP. The best single discriminator was a T(peak)-T(end) of 117 ms. LQT1-like and LQT3-like morphologies were rare during bradyarrhythmias. In contrast, LQT2-like \"notched T waves\" were observed in 55% of patients with TdP but in only 3% of patients with uncomplicated bradyarrhythmias (p < 0.001). A 2-step model based on QT duration and the presence of\n",
      "\n",
      "Score: 0.15131080150604248\n",
      "Content: To explore the relationship between NT-proBNP elevation and prognosis in patients with NSTEACS. High NT-proBNP levels are related to a worse prognosis in patients with ACS. The precise mechanism by which is not clear. Serial sampling of NT-proBNP, Troponin T and CK-MB was performed in 23 patients admitted with NSTEACS. Using coronary angiography in each patient a culprit lesion was identified. Proximal lesions were located before or at the first major branch of the parent artery. All other lesions\n",
      "\n",
      "Score: 0.15141810476779938\n",
      "Content: Patients with ST-segment elevation MIs (STEMI; n=33) and non-ST-segment MIs (non-STEMI; n=39) in 1996 were included in the study. All STEMI patients received thrombolytic therapy. Acute coronary angiography was not an option. Determination of IL-6 and neutrophils was carried out within 24 h after commencement of pain. The subjects were followed for more than 8 years (until December 31, 2005) using the national death registry. Inflammatory markers at the time of MI were compared with long-term survival\n",
      "\n",
      "Score: 0.15169811248779297\n",
      "Content: The development of left ventricular systolic dysfunction or heart failure following an acute myocardial infarction (MI) is a powerful marker of an adverse prognosis. Recurrent MI could be an important cause of death, either directly or by provoking arrhythmias. The OPTIMAAL trial randomized 5477 patients with heart failure or evidence of left ventricular dysfunction following acute MI to losartan or captopril. Over a follow-up of 2.7 years, there were 946 deaths. Of the 180 (19%) of these deaths for which\n",
      "\n"
     ]
    }
   ],
   "source": [
    "for doc, score in results:\n",
    "    print(f\"Score: {score}\")\n",
    "    print(f\"Content: {doc.page_content}\\n\")"
   ]
  },
  {
   "cell_type": "code",
   "execution_count": null,
   "metadata": {},
   "outputs": [],
   "source": []
  },
  {
   "cell_type": "code",
   "execution_count": null,
   "metadata": {},
   "outputs": [],
   "source": []
  }
 ],
 "metadata": {
  "kernelspec": {
   "display_name": "faiss",
   "language": "python",
   "name": "python3"
  },
  "language_info": {
   "codemirror_mode": {
    "name": "ipython",
    "version": 3
   },
   "file_extension": ".py",
   "mimetype": "text/x-python",
   "name": "python",
   "nbconvert_exporter": "python",
   "pygments_lexer": "ipython3",
   "version": "3.12.7"
  }
 },
 "nbformat": 4,
 "nbformat_minor": 2
}
